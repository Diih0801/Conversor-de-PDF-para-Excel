{
 "cells": [
  {
   "cell_type": "code",
   "execution_count": null,
   "metadata": {},
   "outputs": [],
   "source": [
    "import os\n",
    "import openpyxl\n",
    "import pandas as pd\n",
    "import tabula\n",
    "\n",
    "# Caminho da pasta dos arquivos\n",
    "diretorio_pdf = r'C:\\Users\\paaml\\OneDrive\\Área de Trabalho\\Python-Automação\\GitHub\\Converssor_PDF\\Conversor-de-PDF-para-Excel\\Pedidos'\n",
    "\n",
    "# Listar todos os arquivos na pasta\n",
    "arquivos_pdf = os.listdir(diretorio_pdf)\n",
    "\n",
    "for arquivo_pdf in arquivos_pdf:\n",
    "    #print(f'{diretorio_pdf} + {arquivo_pdf}')\n",
    "    # Verificar se o arquivo é um arquivo PDF\n",
    "    if arquivo_pdf.endswith('.PDF'):\n",
    "        # Caminho completo para o arquivo PDF\n",
    "        caminho_pdf = os.path.join(diretorio_pdf, arquivo_pdf)\n",
    "    #print(caminho_pdf)\n",
    "    # Extrair tabelas do arquivo PDF e armazenar em um DataFrame do pandas\n",
    "        tabelas = tabula.read_pdf(caminho_pdf, pages='all', multiple_tables=True, encoding='latin-1')\n",
    "\n",
    "        # Exibir as tabelas extraídas\n",
    "        tabela_df = [(pd.DataFrame(tabela))for tabela in tabelas]\n",
    "        #print(tabela_df)\n",
    "               \n",
    "        # Transformar ás tabelas extraidas em um arquivo excel. E salvar.\n",
    "        with pd.ExcelWriter(f'{arquivo_pdf}.xlsx') as writer:\n",
    "            for i, df in enumerate(tabela_df):\n",
    "                df.to_excel(writer, sheet_name=f'Tabela {i + 1}', index=False)"
   ]
  }
 ],
 "metadata": {
  "kernelspec": {
   "display_name": "Python 3",
   "language": "python",
   "name": "python3"
  },
  "language_info": {
   "codemirror_mode": {
    "name": "ipython",
    "version": 3
   },
   "file_extension": ".py",
   "mimetype": "text/x-python",
   "name": "python",
   "nbconvert_exporter": "python",
   "pygments_lexer": "ipython3",
   "version": "3.12.2"
  }
 },
 "nbformat": 4,
 "nbformat_minor": 2
}
